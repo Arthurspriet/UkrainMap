{
 "cells": [
  {
   "cell_type": "code",
   "execution_count": 91,
   "id": "7fd2b444-fc58-4960-84fb-169d7b2aee5d",
   "metadata": {},
   "outputs": [],
   "source": [
    "import tweepy\n",
    "from tweepy.auth import OAuthHandler \n",
    "import pandas as pd\n",
    "import re\n",
    "import datetime"
   ]
  },
  {
   "cell_type": "code",
   "execution_count": 92,
   "id": "da4f757c-7560-4ff4-9049-8ddd556aada3",
   "metadata": {},
   "outputs": [],
   "source": [
    "secrets_dict ={'API Key': '2IzuBe0WXECoP7nkENGAB1GYJ',\n",
    " 'API Secret': 'wRv9DGQUkjMTNISkJ16Qj73sPB3aHBEB2K9GkZH6uONZywX95t',\n",
    " 'Bearer token': 'AAAAAAAAAAAAAAAAAAAAANNjCQEAAAAA0tQMCT0VtM7NNbjKb5pY%2BUqnzyU%3D5XXmWifVd9R7LJL08OHXaDzdOZttCxETPAycpbsIMCqmxzwSmU',\n",
    " 'Access Token': '1223293246681559042-2pRBktBdT3aH736Q7EgPjLIkON0ame',\n",
    " 'Secret Access Token': '7Ahg4hJ8Cu9ch8yVjMzPUg7y6a2FWG0czAzch7mjqxPgS'}\n",
    "auth = tweepy.OAuthHandler(secrets_dict['API Key'], secrets_dict['API Secret'])\n",
    "auth.set_access_token(secrets_dict['Access Token'], secrets_dict['Secret Access Token'])\n",
    "api = tweepy.API(auth,wait_on_rate_limit=True)"
   ]
  },
  {
   "cell_type": "code",
   "execution_count": 93,
   "id": "f62213ab-fa92-45dc-a029-67e64c49412d",
   "metadata": {},
   "outputs": [],
   "source": [
    "users = [\"Cen4infoRes\"]"
   ]
  },
  {
   "cell_type": "code",
   "execution_count": 94,
   "id": "83a51eb6-1d1f-4963-a4c2-9f22ba3a3f64",
   "metadata": {
    "collapsed": true,
    "jupyter": {
     "outputs_hidden": true
    },
    "tags": []
   },
   "outputs": [
    {
     "ename": "NotFound",
     "evalue": "404 Not Found\n34 - Sorry, that page does not exist.",
     "output_type": "error",
     "traceback": [
      "\u001b[0;31m---------------------------------------------------------------------------\u001b[0m",
      "\u001b[0;31mNotFound\u001b[0m                                  Traceback (most recent call last)",
      "Input \u001b[0;32mIn [94]\u001b[0m, in \u001b[0;36m<cell line: 1>\u001b[0;34m()\u001b[0m\n\u001b[0;32m----> 1\u001b[0m tweets \u001b[38;5;241m=\u001b[39m api\u001b[38;5;241m.\u001b[39muser_timeline(screen_name \u001b[38;5;241m=\u001b[39m users ,count \u001b[38;5;241m=\u001b[39m \u001b[38;5;241m200\u001b[39m)\n",
      "File \u001b[0;32m/opt/homebrew/Caskroom/miniforge/base/envs/ukraine/lib/python3.8/site-packages/tweepy/api.py:33\u001b[0m, in \u001b[0;36mpagination.<locals>.decorator.<locals>.wrapper\u001b[0;34m(*args, **kwargs)\u001b[0m\n\u001b[1;32m     31\u001b[0m \u001b[38;5;129m@functools\u001b[39m\u001b[38;5;241m.\u001b[39mwraps(method)\n\u001b[1;32m     32\u001b[0m \u001b[38;5;28;01mdef\u001b[39;00m \u001b[38;5;21mwrapper\u001b[39m(\u001b[38;5;241m*\u001b[39margs, \u001b[38;5;241m*\u001b[39m\u001b[38;5;241m*\u001b[39mkwargs):\n\u001b[0;32m---> 33\u001b[0m     \u001b[38;5;28;01mreturn\u001b[39;00m \u001b[43mmethod\u001b[49m\u001b[43m(\u001b[49m\u001b[38;5;241;43m*\u001b[39;49m\u001b[43margs\u001b[49m\u001b[43m,\u001b[49m\u001b[43m \u001b[49m\u001b[38;5;241;43m*\u001b[39;49m\u001b[38;5;241;43m*\u001b[39;49m\u001b[43mkwargs\u001b[49m\u001b[43m)\u001b[49m\n",
      "File \u001b[0;32m/opt/homebrew/Caskroom/miniforge/base/envs/ukraine/lib/python3.8/site-packages/tweepy/api.py:46\u001b[0m, in \u001b[0;36mpayload.<locals>.decorator.<locals>.wrapper\u001b[0;34m(*args, **kwargs)\u001b[0m\n\u001b[1;32m     44\u001b[0m kwargs[\u001b[38;5;124m'\u001b[39m\u001b[38;5;124mpayload_list\u001b[39m\u001b[38;5;124m'\u001b[39m] \u001b[38;5;241m=\u001b[39m payload_list\n\u001b[1;32m     45\u001b[0m kwargs[\u001b[38;5;124m'\u001b[39m\u001b[38;5;124mpayload_type\u001b[39m\u001b[38;5;124m'\u001b[39m] \u001b[38;5;241m=\u001b[39m payload_type\n\u001b[0;32m---> 46\u001b[0m \u001b[38;5;28;01mreturn\u001b[39;00m \u001b[43mmethod\u001b[49m\u001b[43m(\u001b[49m\u001b[38;5;241;43m*\u001b[39;49m\u001b[43margs\u001b[49m\u001b[43m,\u001b[49m\u001b[43m \u001b[49m\u001b[38;5;241;43m*\u001b[39;49m\u001b[38;5;241;43m*\u001b[39;49m\u001b[43mkwargs\u001b[49m\u001b[43m)\u001b[49m\n",
      "File \u001b[0;32m/opt/homebrew/Caskroom/miniforge/base/envs/ukraine/lib/python3.8/site-packages/tweepy/api.py:571\u001b[0m, in \u001b[0;36mAPI.user_timeline\u001b[0;34m(self, **kwargs)\u001b[0m\n\u001b[1;32m    530\u001b[0m \u001b[38;5;129m@pagination\u001b[39m(mode\u001b[38;5;241m=\u001b[39m\u001b[38;5;124m'\u001b[39m\u001b[38;5;124mid\u001b[39m\u001b[38;5;124m'\u001b[39m)\n\u001b[1;32m    531\u001b[0m \u001b[38;5;129m@payload\u001b[39m(\u001b[38;5;124m'\u001b[39m\u001b[38;5;124mstatus\u001b[39m\u001b[38;5;124m'\u001b[39m, \u001b[38;5;28mlist\u001b[39m\u001b[38;5;241m=\u001b[39m\u001b[38;5;28;01mTrue\u001b[39;00m)\n\u001b[1;32m    532\u001b[0m \u001b[38;5;28;01mdef\u001b[39;00m \u001b[38;5;21muser_timeline\u001b[39m(\u001b[38;5;28mself\u001b[39m, \u001b[38;5;241m*\u001b[39m\u001b[38;5;241m*\u001b[39mkwargs):\n\u001b[1;32m    533\u001b[0m     \u001b[38;5;124;03m\"\"\"user_timeline(*, user_id, screen_name, since_id, count, max_id, \\\u001b[39;00m\n\u001b[1;32m    534\u001b[0m \u001b[38;5;124;03m                     trim_user, exclude_replies, include_rts)\u001b[39;00m\n\u001b[1;32m    535\u001b[0m \n\u001b[0;32m   (...)\u001b[0m\n\u001b[1;32m    569\u001b[0m \u001b[38;5;124;03m    https://developer.twitter.com/en/docs/twitter-api/v1/tweets/timelines/api-reference/get-statuses-user_timeline\u001b[39;00m\n\u001b[1;32m    570\u001b[0m \u001b[38;5;124;03m    \"\"\"\u001b[39;00m\n\u001b[0;32m--> 571\u001b[0m     \u001b[38;5;28;01mreturn\u001b[39;00m \u001b[38;5;28;43mself\u001b[39;49m\u001b[38;5;241;43m.\u001b[39;49m\u001b[43mrequest\u001b[49m\u001b[43m(\u001b[49m\n\u001b[1;32m    572\u001b[0m \u001b[43m        \u001b[49m\u001b[38;5;124;43m'\u001b[39;49m\u001b[38;5;124;43mGET\u001b[39;49m\u001b[38;5;124;43m'\u001b[39;49m\u001b[43m,\u001b[49m\u001b[43m \u001b[49m\u001b[38;5;124;43m'\u001b[39;49m\u001b[38;5;124;43mstatuses/user_timeline\u001b[39;49m\u001b[38;5;124;43m'\u001b[39;49m\u001b[43m,\u001b[49m\u001b[43m \u001b[49m\u001b[43mendpoint_parameters\u001b[49m\u001b[38;5;241;43m=\u001b[39;49m\u001b[43m(\u001b[49m\n\u001b[1;32m    573\u001b[0m \u001b[43m            \u001b[49m\u001b[38;5;124;43m'\u001b[39;49m\u001b[38;5;124;43muser_id\u001b[39;49m\u001b[38;5;124;43m'\u001b[39;49m\u001b[43m,\u001b[49m\u001b[43m \u001b[49m\u001b[38;5;124;43m'\u001b[39;49m\u001b[38;5;124;43mscreen_name\u001b[39;49m\u001b[38;5;124;43m'\u001b[39;49m\u001b[43m,\u001b[49m\u001b[43m \u001b[49m\u001b[38;5;124;43m'\u001b[39;49m\u001b[38;5;124;43msince_id\u001b[39;49m\u001b[38;5;124;43m'\u001b[39;49m\u001b[43m,\u001b[49m\u001b[43m \u001b[49m\u001b[38;5;124;43m'\u001b[39;49m\u001b[38;5;124;43mcount\u001b[39;49m\u001b[38;5;124;43m'\u001b[39;49m\u001b[43m,\u001b[49m\u001b[43m \u001b[49m\u001b[38;5;124;43m'\u001b[39;49m\u001b[38;5;124;43mmax_id\u001b[39;49m\u001b[38;5;124;43m'\u001b[39;49m\u001b[43m,\u001b[49m\n\u001b[1;32m    574\u001b[0m \u001b[43m            \u001b[49m\u001b[38;5;124;43m'\u001b[39;49m\u001b[38;5;124;43mtrim_user\u001b[39;49m\u001b[38;5;124;43m'\u001b[39;49m\u001b[43m,\u001b[49m\u001b[43m \u001b[49m\u001b[38;5;124;43m'\u001b[39;49m\u001b[38;5;124;43mexclude_replies\u001b[39;49m\u001b[38;5;124;43m'\u001b[39;49m\u001b[43m,\u001b[49m\u001b[43m \u001b[49m\u001b[38;5;124;43m'\u001b[39;49m\u001b[38;5;124;43minclude_rts\u001b[39;49m\u001b[38;5;124;43m'\u001b[39;49m\n\u001b[1;32m    575\u001b[0m \u001b[43m        \u001b[49m\u001b[43m)\u001b[49m\u001b[43m,\u001b[49m\u001b[43m \u001b[49m\u001b[38;5;241;43m*\u001b[39;49m\u001b[38;5;241;43m*\u001b[39;49m\u001b[43mkwargs\u001b[49m\n\u001b[1;32m    576\u001b[0m \u001b[43m    \u001b[49m\u001b[43m)\u001b[49m\n",
      "File \u001b[0;32m/opt/homebrew/Caskroom/miniforge/base/envs/ukraine/lib/python3.8/site-packages/tweepy/api.py:261\u001b[0m, in \u001b[0;36mAPI.request\u001b[0;34m(self, method, endpoint, endpoint_parameters, params, headers, json_payload, parser, payload_list, payload_type, post_data, files, require_auth, return_cursors, upload_api, use_cache, **kwargs)\u001b[0m\n\u001b[1;32m    259\u001b[0m     \u001b[38;5;28;01mraise\u001b[39;00m Forbidden(resp)\n\u001b[1;32m    260\u001b[0m \u001b[38;5;28;01mif\u001b[39;00m resp\u001b[38;5;241m.\u001b[39mstatus_code \u001b[38;5;241m==\u001b[39m \u001b[38;5;241m404\u001b[39m:\n\u001b[0;32m--> 261\u001b[0m     \u001b[38;5;28;01mraise\u001b[39;00m NotFound(resp)\n\u001b[1;32m    262\u001b[0m \u001b[38;5;28;01mif\u001b[39;00m resp\u001b[38;5;241m.\u001b[39mstatus_code \u001b[38;5;241m==\u001b[39m \u001b[38;5;241m429\u001b[39m:\n\u001b[1;32m    263\u001b[0m     \u001b[38;5;28;01mraise\u001b[39;00m TooManyRequests(resp)\n",
      "\u001b[0;31mNotFound\u001b[0m: 404 Not Found\n34 - Sorry, that page does not exist."
     ]
    }
   ],
   "source": [
    "tweets = api.user_timeline(screen_name = users ,count = 200)"
   ]
  },
  {
   "cell_type": "code",
   "execution_count": 96,
   "id": "dbf78ae6-a4e0-4487-b33a-3220374931f7",
   "metadata": {},
   "outputs": [],
   "source": [
    "user_tweet = [tweet.text for tweet in tweets]"
   ]
  },
  {
   "cell_type": "code",
   "execution_count": 97,
   "id": "2967e878-7e46-4c80-8d96-586fe8688bdd",
   "metadata": {
    "tags": []
   },
   "outputs": [
    {
     "data": {
      "text/plain": [
       "['RT @HarmlessYardDog: @detresfa_ @SimTack @COUPSURE Time-Lapse Map of events in #Ukraine with \\n@SimTack &amp; @COUPSURE map data https://t.co/K8…',\n",
       " 'Map of countries that have closed their airspace to Russian airlines\\n\\nVia - @no_itsmyturn https://t.co/jg3Qd18scC',\n",
       " 'https://t.co/DN8Rcp7IE4',\n",
       " 'https://t.co/kJcYO1e7Gg',\n",
       " 'https://t.co/TgekogveMo',\n",
       " 'https://t.co/oHH4xUsX71',\n",
       " 'https://t.co/kZY4k7lQRS',\n",
       " 'RT @tobiaschneider: Lmao what possesses one to think these people can be occupied',\n",
       " 'Day 4 :\\n#Ukraine has managed to repel several Russian attempts to enter the cities of Kyiv and Kharkiv.  \\n\\nRussia i… https://t.co/uATa5FkIuA',\n",
       " 'Reportedly early this morning in the Kherson region https://t.co/j9dZJLdgfY',\n",
       " '👇 https://t.co/d0AcNCXiKD',\n",
       " 'Seems like a molotov cocktail was thrown out of a van https://t.co/s4oFj7Zmb9',\n",
       " 'Possible geolocation \\n\\n47.26803437722594, 37.780175133439826 https://t.co/lZzYP3QACG https://t.co/YxtsgNjNbc',\n",
       " 'Head of the DNR in Pavlopil https://t.co/2IihJ2r56y',\n",
       " 'This 👇 https://t.co/V9tfn6yqc4',\n",
       " 'Today https://t.co/7b52DJ7HQI',\n",
       " '#BREAKING 🔴: \\n\\nPeace talks confirmed. \\n\\nUkrainian delegation will meet with the Russian delegation without precondi… https://t.co/KQOj6UcnFo',\n",
       " 'RT @MotolkoHelp: ❗️The internal network of the Belarusian Railways has been attacked, all services are out of order.',\n",
       " '@chreswenn Ouais',\n",
       " 'Putin has order Russia’s deterrence forces to a special regime of duty because, \"leaders of major Nato countries ar… https://t.co/2p4iaO7Ld8',\n",
       " 'Mass destruction of military equipment and civilian infrastructure in Bucha. Geolocated here:\\n\\n50.54257331282061, 3… https://t.co/Vq0Y2cfZv5',\n",
       " '👇👇👇 https://t.co/B7H5p9FBTD',\n",
       " 'RT @bellingcat: We continue to collect examples of cluster munition use in the following thread:\\n\\nhttps://t.co/ytlMNfzFmT',\n",
       " 'RT @bellingcat: In a particularly egregious incident, a kindergarten in Okhtyrka appears to have been impacted by a cluster munition, with…',\n",
       " 'Second part of the video https://t.co/KQc2Ek7d1a https://t.co/B6zO3PRaiH',\n",
       " 'Massive destruction reportedly in Bucha https://t.co/Ph6fDwkHtb',\n",
       " 'Thanks for all the donations people. It’s really appreciated, the money will be used for satellite imagery and othe… https://t.co/c9tVwFyjM4',\n",
       " \"RT @Orion__int: As Russian advances in the #UkraineRussiaWar continue, It is a good time to look at Ukraine's Nuclear reactors. https://t.c…\",\n",
       " '@laszlo_gaal SkyWatch',\n",
       " '@aniwacked Misread your tweet. Very hard to find… If you have any coordinates I will gladly order images',\n",
       " 'Do you have coordinates for places where of interest I can get images? If yes, please share, I’ll have a look and t… https://t.co/ERZTkHwTxX',\n",
       " '@aasadhu Images I have ordered are from the 26 and the hangar was fine on sentinel images from that date',\n",
       " 'RT @NeilPHauer: Russian forces fighting in Mykolaiv, a 150+km advance from their starting positions in Crimea',\n",
       " 'Help me buy satellite imagery : https://t.co/msKzqIUcHJ',\n",
       " 'High resolution satellite imagery of Antonov Air Base will be posted soon. At the latest, tomorrow.',\n",
       " 'RT @CedricMas: Ukraine J4 Images d’un poste de guidage de missile ATGM Skif/Stugna-P des forces UKR ayant détruit un tank russe (T-72 ou T-…',\n",
       " 'Destroyed Russian equipment in Sumy \\n\\nFighting seems to be ongoing in the area\\n\\n50.875053135509894, 34.904959932617… https://t.co/2contJalXK',\n",
       " 'Multiple videos of Russian equipment were geolocated in Kupiansk. The part of the city to the right of the Oskil Ri… https://t.co/RhCgTykisI',\n",
       " \"RT @KyleJGlen: I'm struggling to understand Putin's end goal. Zelensky is more popular than ever, a puppet government isn't going to work.…\",\n",
       " 'RT @no_itsmyturn: Smoke spotted from the sea,\\nChornomorsk, Odessa oblast\\n#Ukraine 🇺🇦 https://t.co/z1b0OO6T7L',\n",
       " 'RT @CovertShores: Satellite imagery shows Russian warships around Snake Island, Ukraine, Feb 26 2022. Slava class cruiser, spy ship etc. ht…',\n",
       " 'RT @larisamlbrown: Breaking: Ukrainian military source claiming Belorussian special ops forces are loading onto airplanes for air assault o…',\n",
       " 'Ukraine has announced that it has received a large quantity of air-to-air missiles from its Western partners. These… https://t.co/DVk8xoQ77d',\n",
       " 'RT @vino_freakism: @COUPSURE 50.00992657523523, 36.284383806944845',\n",
       " 'German army getting a large increase in budget this year. https://t.co/KVsurm7ify',\n",
       " 'Can’t confirm this, but it is reported that the only AN225 has been destroyed. https://t.co/rChFuX3McZ',\n",
       " 'Russian equipment was geolocated this morning in Mykolaiv. This is a major update, the Russian forces were blocked… https://t.co/O0YQ1crqyo',\n",
       " 'RT @wammezz: If you have any credible information related to damage to critical infrastructure, industrial sites or wider environmental imp…',\n",
       " '@RALee85 https://t.co/Fa2BFlk4qJ https://t.co/emwDiLGytg',\n",
       " 'Ukrainian military confirms this video shows a TB2 in action in the Kherson region. https://t.co/u5utZBlkfN',\n",
       " 'Reportedly from Sumy Oblast https://t.co/MbE6377fr1',\n",
       " 'RT @BNONews: BREAKING: Finland closes one of the last remaining gateways to Europe for Russian planes https://t.co/Rg80DRCFHo',\n",
       " 'Kharkiv https://t.co/O5uMjZdAYJ',\n",
       " 'Ukrainian forces in Kharkiv \\n\\nNote abandoned Russian vehicles on the left https://t.co/6aYMcwhuVN',\n",
       " 'Russian forces tried to enter Kharkiv but were ambushed by Ukrainian forces https://t.co/wkYeOLkVQo',\n",
       " '🇺🇦/🇷🇺 Thread :\\n\\nRussian invasion day 4',\n",
       " 'Russian forces in Nova Kakhovka, Kherson region \\n\\n📸@Maxar https://t.co/gFSM0YcQ5l',\n",
       " 'RT @ckoettl: Russian ground forces near dam in Nova Kakhovka today, #Ukraine.  🛰️📷 @Maxar https://t.co/51bJxa3nXc',\n",
       " '👇 https://t.co/GsyIlfKx2S',\n",
       " '👇👇👇 https://t.co/amIUbQznSp',\n",
       " 'RT @SamuelSokol: Two Danish reporters shot, injured in eastern Ukraine https://t.co/cfcScHSIa6',\n",
       " 'RT @john_marquee: Geolocation of Su-25 hit by a MANPADS east of Kherson #Ukraine\\n\\nFilmed from approximately 46.65502, 32.65695 https://t.co…',\n",
       " 'RT @ZelenskyyUa: Had a phone conversation with @BorisJohnson. Grateful to the British Prime Minister for his position, new decisions to enh…',\n",
       " 'RT @AuroraIntel: Imagery via @planet shows the collapsed Kamaryn Slavutych Border Crossing Bridge at the Ukraine and Belarus border here. h…',\n",
       " 'RT @flightradar24: Estonian, Latvian, and Lithuanian NOTAMs now posted — effective 2200 UTC, Russian aircraft will not be permitted. https:…',\n",
       " 'Su-25 hit by a MANPAD in the Kherson region https://t.co/W8mBbogleL',\n",
       " 'RT @Cen4infoRes: @Maxar Satellite imagery from @sentinel_hub shows multiple fires burning today (Feb 26) around Gostomel Airfield in Kyiv O…',\n",
       " 'RT @AFP: #BREAKING More than 3,000 people detained for anti-war protests in Russia since Thursday: monitor https://t.co/vjJgiGtk5F',\n",
       " 'RT @KofmanMichael: Locals attempting to block a Russian armored column moving through the city. However, if the tag is right then they are…',\n",
       " 'Civilian casualty in Mariupol\\n\\nhttps://t.co/UWUNVJfwYi https://t.co/z8BiiJo5uU',\n",
       " 'Mi-24 down  https://t.co/PoAZtbfOGo',\n",
       " \"RT @AFP: #BREAKING Germany says it will send 1,000 anti-tank weapons, 500 'Stinger' surface-to-air missiles to Ukraine https://t.co/BxiS86f…\",\n",
       " 'RT @ASLuhn: .@ZelenskyyUa says Ukraine has gotten Europe to agree to cut Russia off from SWIFT. \"This is an important victory. It means bil…',\n",
       " 'Heavy fighting in Kyiv tonight https://t.co/mavoJEqCa9',\n",
       " 'Russian strategic bomber noted airborne https://t.co/zDe7AipRFx',\n",
       " 'Molotov cocktail thrown at a Russian fuel truck https://t.co/Aqr8YR0KHD',\n",
       " 'Ukrainians who want to fight, read this thread: https://t.co/x2eiB1UeGh',\n",
       " 'RT @TreyYingst: Air raid sirens now',\n",
       " 'RT @Orion__int: Russian forces have destroyed a canal dam that Ukraine had built to restrict water to Crimea from the Dnieper river. https:…',\n",
       " \"We've been following the third day of Russia's invasion of Ukraine with @detresfa_ and @SimTack. The battle for Mar… https://t.co/eCaZ7XcUZA\",\n",
       " 'Large convoys of Russian military equipment are reportedly heading to Mariupol and Kyiv. I guess Russia will also t… https://t.co/ULvdXDO9Fz',\n",
       " 'https://t.co/MJcrKiqxsd',\n",
       " 'We could see Marioupol battle start tonight.',\n",
       " 'RT @herszenhorn: BREAKING: Germany dropping longstanding block against lethal weapons transfers to allow 400 RPGs to be sent to Ukraine fro…',\n",
       " 'Geolocation https://t.co/FTERFplqbp',\n",
       " 'RT @aldin_ww: Footage filmed at Western entrance to Ivankiv,  Kyiv Oblast.\\nР02\\nhttps://t.co/AafuzTXltL https://t.co/po8kgtLDzQ',\n",
       " 'Chechens in Gostomel https://t.co/2PHKKOu4Es',\n",
       " 'NLAW seen during a firefight. Insane video filmed reportedly on the outskirts of Ivankov. https://t.co/a0mtrFPzhT',\n",
       " 'RT @aldin_ww: Heavy push today from Russian Forces on following axis:\\n\\nMelitopol - Berdyansk - Mariupol \\nMelitopol - Zaporizhzhia\\nBelgorod…',\n",
       " \"RT @bellingcat: Given the sheer volume of content being posted online, we're partnering with @Cen4InfoRes to help verify and map incidents.…\",\n",
       " 'Fighting ongoing with sabotage groups in Kyiv. https://t.co/XhNkj1xmBr',\n",
       " 'Kadyrov confirms deployment of Chechen forces to Ukraine. https://t.co/NiTI0CIWdz',\n",
       " 'RT @Gerjon_: A visual comparison between archive imagery of Sukhois Su-27 and the canopy shown by @GirkinGirkin makes very clear that the c…',\n",
       " 'RT @JackDetsch: BREAKING: US has indications that Russians are “increasingly frustrated” with lack of progress in Ukraine invasion, especia…',\n",
       " 'Russia armor with a useless sunroof https://t.co/AYZHI9Sd4o',\n",
       " 'RT @phildstewart: U.S. HAS OBSERVED MORE THAN 250 LAUNCHES OF RUSSIAN MISSILES AT UKRAINIAN TARGETS, MOSTLY SHORT RANGE - U.S. OFFICIAL',\n",
       " 'Russian equipment in the Zaporozhye region \\n https://t.co/H1YrTZwZx4',\n",
       " 'Reportedly in Cherinihiv this morning https://t.co/yddIr4JewV',\n",
       " 'RT @BenDoBrown: Great coverage by @Nieuwsuur interviewing @hengenahm walking through the detailed work we have been doing at @Cen4infoRes t…',\n",
       " 'https://t.co/S3s6OHnafm',\n",
       " 'RT @JosephHDempsey: Geolocation of #Russia 🇷🇺 Pantsir-S2 (SA-22 Greyhound) Short-Range SAM system to Ivankiv, Kyiv Oblast #Ukraine 🇺🇦  (50°…',\n",
       " 'Northern parts of Kyiv this morning https://t.co/9nOA9gwd5g',\n",
       " 'RT @netblocks: ⚠️ Confirmed: Live metrics show that Twitter has been restricted on multiple providers in #Russia as of 9:00 a.m. UTC; the i…',\n",
       " 'RT @KyivIndependent: ⚡️Hungary now supports cutting Russia off SWIFT.\\n\\nHungary was the last EU country who opposed the measure.',\n",
       " 'RT @AbraxasSpa: @Liveuamap https://t.co/YUn0av1tKD',\n",
       " '@aliostad Clashes are reported in the outskirts',\n",
       " 'Oh and,\\n\\nThe grid is still working\\nInternet and communication are working\\nRussian doesn’t have control of the skies https://t.co/FuXuE6arDo',\n",
       " 'Ukraine is holding up very well. \\n\\nRussia has been blocked in Kherson since day 1\\nRussia is gaining ground very slo… https://t.co/os69XVcvqA',\n",
       " 'Russians dressed as Ukrainians? Would not be a first https://t.co/dJvhby98mS',\n",
       " 'Russian POWs https://t.co/0tcESED6PT',\n",
       " 'Video purportedly from Melitopol showing Russians troops moving in the city. Situation in Melitopol is unclear but… https://t.co/MludTwwZ3e',\n",
       " 'Fighting continues around Melitopol https://t.co/J0vlYEXNQd',\n",
       " 'This video and the one above were filmed last night in Nova Kakhovka, Kherson region. https://t.co/ccsvAy0gbq',\n",
       " \"Zelensky says Ukraine has 'derailed' Russia's attack plan\\n\\n(AFP)\",\n",
       " 'Kherson region https://t.co/S8HR5dySnu',\n",
       " 'French officials told the BBC that the ship was intercepted in line with new EU sanctions and say it has been redir… https://t.co/mfpA5RILPK',\n",
       " '#BREAKING : The French navy has intercepted a cargo ship in the English channel bound for the Russian city of St Pe… https://t.co/YD3Rvz9bzY',\n",
       " 'Possible dogfight between Russian and Ukrainian jets over Vasylkiv https://t.co/JTRtFhJnh2',\n",
       " 'Unconfirmed video from Khmelnytsky region https://t.co/cEXYGaTfp3',\n",
       " 'RT @MarQs__: Estonia closes airspace to Russian planes - NEXTA',\n",
       " 'RT @wipljw: 🇺🇸General Dynamics F-16CM Fighting Falcon https://t.co/nMOO0TF0MU',\n",
       " 'Unconfirmed video of an aircraft shot down in the Zhytomyr region https://t.co/NJBQmYJUbI',\n",
       " 'Destroyed Russian equipment https://t.co/2q52JshG4z',\n",
       " 'The Netherlands will be sending Stingers to Ukraine https://t.co/TNr8BQMmdC',\n",
       " 'Zelensky is still in Kyiv. 💪🏻 https://t.co/yRfH7mYU7y',\n",
       " 'RT @Orion__int: Here are the bridges that have been apparently destroyed by Ukrainian forces around the country in the last two days, At le…',\n",
       " 'According to a senior U.S. intelligence official, the United States offered to evacuate the Ukrainian president. Ze… https://t.co/bT6aJbqJUZ',\n",
       " '@princertitude @aldin_ww AD ?',\n",
       " 'Ukraine reportedly shot down a second IL-76 transport plane last night. https://t.co/Ztt7Dn4oQq',\n",
       " 'Russian Mi-24 destroys a Ukrainian BUK system https://t.co/2pqb4ny7LJ',\n",
       " 'Ukraine claims to have inflicted very heavy losses on the Russian army. https://t.co/VfbUtwPiqB',\n",
       " 'Not sure this was a cruise missile https://t.co/vvyflU1BSV',\n",
       " 'Video of the moment a missile hit a building in Kyiv https://t.co/SjRufWudLE',\n",
       " 'A Russian cruise missile hit a residential building in Kyiv this morning https://t.co/VagstnVFQU',\n",
       " '🇺🇦/🇷🇺 Thread :\\n\\nRussian invasion day 3',\n",
       " '👇 https://t.co/CwvGy2LVFp',\n",
       " 'RT @nexta_tv: ❗️White House asks Congress for $6.4 billion to help #Ukraine',\n",
       " 'We need visual confirmation https://t.co/Ztt7Dn4oQq',\n",
       " 'The fact that internet is still up in the majority of Ukraine puzzles me',\n",
       " 'The large transport plane was reportedly shot down near Vasylkiv https://t.co/Ztt7DmMNrQ https://t.co/3kwLP3pKYZ',\n",
       " '#BREAKING 🔴: Ukrainian Air Force claims they have shot down a Russian IL-76 transporting paratroopers south of Kyiv.',\n",
       " 'Saboteurs captured in Kyiv https://t.co/2wV1GfYbiy',\n",
       " 'RT @Liveuamap: Russia vetoes draft UN resolution condemning its actions in Ukraine. 11 votes in favour. 3 abstentions including China, Indi…',\n",
       " \"RT @BNONews: Russia vetoes UN Security Council resolution condemning Russia's attack on Ukraine, China abstains\",\n",
       " 'Unconfirmed video reportedly from Kyiv https://t.co/s4dLltwEM0',\n",
       " 'Multiple reports of clashes in different parts of Kyiv.',\n",
       " 'Kyiv tonight. MRLS firing on the left. https://t.co/f6ordNs75F',\n",
       " 'RT @CovertShores: **UPDATE** Feb 25 #Russian Navy activity ref #Ukraine \\n\\nw/@detresfa_\\n\\nHighlights:\\n* Amphibious landings west of #Mariupol…',\n",
       " 'Vinnytsia Regional State Administrator claims Ukraine shot down a Russian Su-25',\n",
       " 'RT @ELINTNews: Ukrainian national anthem played on the trumpet during clashes around Sumy in eastern Ukraine https://t.co/yf7gG3On57',\n",
       " 'Video reportedly from Mykolaiv’s air base https://t.co/NjdVT3qjXN',\n",
       " '\"This night will be harder than the day. Many cities of our state are under attack: Chernihiv, Sumy, Kharkiv, our b… https://t.co/gi6JelNhPb',\n",
       " 'RT @DefenceHQ: We can confirm the following developments in Ukraine: https://t.co/Iv1xOv6abl',\n",
       " 'My guess is that Moscou is sending a message https://t.co/VNpWWsXWfl',\n",
       " \"RT @MarQs__: You don't hear much from the #DPR and #LPR heads these days..\\nhttps://t.co/KDdwx4ZfrT\",\n",
       " 'Could be related to a parade but as @MarQs__ said I’m not trusting this… https://t.co/ZPtWr74eX6',\n",
       " 'Topol-M ICBM’s in Moscow \\n https://t.co/4UzbkaUS2i',\n",
       " 'Multiple explosions heard a few minutes ago in Kyiv. Gunfire is also heard in the center.',\n",
       " 'Heavy explosion in Mykolaiv https://t.co/A1Pw8ihkou',\n",
       " 'RT @MarQs__: #US to announce sanctions against President Putin himself as soon as today - CNN',\n",
       " 'Molotov cocktail production https://t.co/zdKLyq4rDL',\n",
       " '? \\n\\n50.5324359, 30.6627691 https://t.co/TC6cTSWNaw https://t.co/FHdOsB8h8c',\n",
       " 'RT @BenDoBrown: Satellite imagery from today shared by @Maxar shows  large helicopter deployment near the Belarusian town of Chojniki (Хойн…',\n",
       " 'Explosions heard in Kyiv',\n",
       " \"@LM7881 Je pense plutôt que l'année est fausse. Il n'y a pas eu de bombardements à Kharkiv en 2021...\",\n",
       " 'Maxar imagery captured today shows more than 100 attack and transport helicopters in southern Belarus, about 30 km… https://t.co/JxjwJEtpit',\n",
       " 'Kharkiv https://t.co/MQBP1rvTA1',\n",
       " 'EU to freeze Putin and Lavrov’s assets',\n",
       " 'RT @EJ_Burrows: EXCLUSIVE: I have been given a copy of document issued today by Russian Ministry of Health. It indicates Russia is anticipa…',\n",
       " '#BREAKING🔴: NATO to provide more weapons including air defense systems to Ukraine- NATO Secretary General Stoltenberg\\n\\nVia - @ELINTNews',\n",
       " 'RT @CedricMas: Ukraine.\\nVoici enfin l’explication dès marquages tactiques russes.\\nIl manque le rond blanc ?\\n@MathieuMorant',\n",
       " 'Odessa https://t.co/ka611egwGd',\n",
       " 'USAF RQ-4B over the Black Sea https://t.co/xddGX2R48i',\n",
       " 'President Zelensky is in Kyiv https://t.co/AxEDWoofND',\n",
       " '@alliounidizlov Doesn’t give out any position',\n",
       " 'A large strategic fuel reserve was rocked by an explosion this evening. https://t.co/aNTicytygi https://t.co/j5yz2erhXp',\n",
       " 'Russian troops are trying to break into Mariupol, the situation is under control - the mayor https://t.co/OyXrKNIhNa',\n",
       " 'Air defense active over Odessa https://t.co/LUe7wBAuPJ',\n",
       " 'Explosion heard in Odessa',\n",
       " '🔴 Reports of an amphibious landing currently ongoing in Mariupol',\n",
       " 'Major fire reported in Kharkiv https://t.co/SnkrN5U1LL',\n",
       " 'Big fire in Kharkiv https://t.co/aNTicytygi',\n",
       " 'Air raid sirens in Kyiv',\n",
       " 'Hostomel, Antonov Airport https://t.co/2BYCnkqeDC',\n",
       " 'RT @wipljw: 🇺🇸Northrop Grumman RQ-4B Global Hawk  FORTE11 https://t.co/6Hhoorz626',\n",
       " 'Geolocation: 46.8400120, 35.3715288 https://t.co/7R3zIQtGRK https://t.co/GJLNc5dQuR',\n",
       " 'Two civilians ships were targeted in the Black Sea https://t.co/B7YKlRjuND',\n",
       " 'Nova Kakhovka, Kherson region https://t.co/B6pOH0rUKy',\n",
       " 'RT @Conflicts: BREAKING: German Finance minister says Berlin is open to cutting Russia from SWIFT. Previously Germany had opposed such an a…',\n",
       " 'Video purportedly showing heavy fighting in Melitopol https://t.co/W0CFUKlvKk',\n",
       " 'RT @COUPSURE: Ukraine has been fighting against a Russian invasion for two days. Today, Ukraine conducted its first strike on Russian terri…',\n",
       " 'Images of Antonov air base taken this morning.\\n\\nVia - @WhereisRussia https://t.co/J1DTYEZxUO',\n",
       " \"RT @AuroraIntel: During a televised address today Putin has called on the Ukrainian army to overthrow #Ukraine's leadership in Kyiv.\",\n",
       " 'The official representative of the Russian Ministry of Defense claims the armed forces of the Russian Federation co… https://t.co/zA9w5yCGPo',\n",
       " 'RT @BarakRavid: BREAKING: In a video conference call last night Ukraine President Zelensky told EU leaders: \"This might be the last time yo…',\n",
       " 'Russian troops near Kherson. Working on a geolocation https://t.co/MDvN69UVg1',\n",
       " '@mydoctrinesays @detresfa_ @SimTack True',\n",
       " 'RT @detresfa_: Tracking the second day of fighting in #Ukraine as a battle is underway for control of #Kyiv, with #Russia trying to encircl…',\n",
       " 'Ukraine has been fighting against a Russian invasion for two days. Today, Ukraine conducted its first strike on Rus… https://t.co/fXAt7AeS7M',\n",
       " 'https://t.co/BAOXH68P6h']"
      ]
     },
     "execution_count": 97,
     "metadata": {},
     "output_type": "execute_result"
    }
   ],
   "source": [
    "user_tweet"
   ]
  },
  {
   "cell_type": "code",
   "execution_count": 48,
   "id": "cf2e7330-6585-4ab1-878c-5845d7c33028",
   "metadata": {},
   "outputs": [],
   "source": [
    "date_tweet=[tweet.created_at for tweet in tweets]"
   ]
  },
  {
   "cell_type": "code",
   "execution_count": 49,
   "id": "f733030c-e8ca-4283-b400-9537169508c0",
   "metadata": {},
   "outputs": [],
   "source": [
    "date = [date.strftime(\"%d %b %Y\") for date in date_tweet] "
   ]
  },
  {
   "cell_type": "code",
   "execution_count": 50,
   "id": "902ba56c-20d4-42db-8484-4b233a3152e0",
   "metadata": {},
   "outputs": [],
   "source": [
    "user_tweet = pd.DataFrame(user_tweet)"
   ]
  },
  {
   "cell_type": "code",
   "execution_count": 51,
   "id": "745629e7-f266-4175-ade0-299fd8bb2551",
   "metadata": {},
   "outputs": [
    {
     "data": {
      "text/html": [
       "<div>\n",
       "<style scoped>\n",
       "    .dataframe tbody tr th:only-of-type {\n",
       "        vertical-align: middle;\n",
       "    }\n",
       "\n",
       "    .dataframe tbody tr th {\n",
       "        vertical-align: top;\n",
       "    }\n",
       "\n",
       "    .dataframe thead th {\n",
       "        text-align: right;\n",
       "    }\n",
       "</style>\n",
       "<table border=\"1\" class=\"dataframe\">\n",
       "  <thead>\n",
       "    <tr style=\"text-align: right;\">\n",
       "      <th></th>\n",
       "      <th>0</th>\n",
       "    </tr>\n",
       "  </thead>\n",
       "  <tbody>\n",
       "    <tr>\n",
       "      <th>0</th>\n",
       "      <td>RT @HarmlessYardDog: @detresfa_ @SimTack @COUP...</td>\n",
       "    </tr>\n",
       "    <tr>\n",
       "      <th>1</th>\n",
       "      <td>Map of countries that have closed their airspa...</td>\n",
       "    </tr>\n",
       "    <tr>\n",
       "      <th>2</th>\n",
       "      <td>https://t.co/DN8Rcp7IE4</td>\n",
       "    </tr>\n",
       "    <tr>\n",
       "      <th>3</th>\n",
       "      <td>https://t.co/kJcYO1e7Gg</td>\n",
       "    </tr>\n",
       "    <tr>\n",
       "      <th>4</th>\n",
       "      <td>https://t.co/TgekogveMo</td>\n",
       "    </tr>\n",
       "    <tr>\n",
       "      <th>...</th>\n",
       "      <td>...</td>\n",
       "    </tr>\n",
       "    <tr>\n",
       "      <th>195</th>\n",
       "      <td>Russian troops near Kherson. Working on a geol...</td>\n",
       "    </tr>\n",
       "    <tr>\n",
       "      <th>196</th>\n",
       "      <td>@mydoctrinesays @detresfa_ @SimTack True</td>\n",
       "    </tr>\n",
       "    <tr>\n",
       "      <th>197</th>\n",
       "      <td>RT @detresfa_: Tracking the second day of figh...</td>\n",
       "    </tr>\n",
       "    <tr>\n",
       "      <th>198</th>\n",
       "      <td>Ukraine has been fighting against a Russian in...</td>\n",
       "    </tr>\n",
       "    <tr>\n",
       "      <th>199</th>\n",
       "      <td>https://t.co/BAOXH68P6h</td>\n",
       "    </tr>\n",
       "  </tbody>\n",
       "</table>\n",
       "<p>200 rows × 1 columns</p>\n",
       "</div>"
      ],
      "text/plain": [
       "                                                     0\n",
       "0    RT @HarmlessYardDog: @detresfa_ @SimTack @COUP...\n",
       "1    Map of countries that have closed their airspa...\n",
       "2                              https://t.co/DN8Rcp7IE4\n",
       "3                              https://t.co/kJcYO1e7Gg\n",
       "4                              https://t.co/TgekogveMo\n",
       "..                                                 ...\n",
       "195  Russian troops near Kherson. Working on a geol...\n",
       "196           @mydoctrinesays @detresfa_ @SimTack True\n",
       "197  RT @detresfa_: Tracking the second day of figh...\n",
       "198  Ukraine has been fighting against a Russian in...\n",
       "199                            https://t.co/BAOXH68P6h\n",
       "\n",
       "[200 rows x 1 columns]"
      ]
     },
     "execution_count": 51,
     "metadata": {},
     "output_type": "execute_result"
    }
   ],
   "source": [
    "user_tweet"
   ]
  },
  {
   "cell_type": "code",
   "execution_count": 52,
   "id": "523b7d72-8a7f-4d82-8538-f7e155be2706",
   "metadata": {},
   "outputs": [],
   "source": [
    "user_tweet['Tweet date'] = date"
   ]
  },
  {
   "cell_type": "code",
   "execution_count": 53,
   "id": "82d86e20-0b15-4171-ab59-ab02593e3128",
   "metadata": {},
   "outputs": [],
   "source": [
    "user_tweet.columns = ['Tweet','Date']"
   ]
  },
  {
   "cell_type": "code",
   "execution_count": 70,
   "id": "80e294a8-5db0-4b33-935d-e5ec2cc53bb2",
   "metadata": {},
   "outputs": [
    {
     "data": {
      "text/html": [
       "<div>\n",
       "<style scoped>\n",
       "    .dataframe tbody tr th:only-of-type {\n",
       "        vertical-align: middle;\n",
       "    }\n",
       "\n",
       "    .dataframe tbody tr th {\n",
       "        vertical-align: top;\n",
       "    }\n",
       "\n",
       "    .dataframe thead th {\n",
       "        text-align: right;\n",
       "    }\n",
       "</style>\n",
       "<table border=\"1\" class=\"dataframe\">\n",
       "  <thead>\n",
       "    <tr style=\"text-align: right;\">\n",
       "      <th></th>\n",
       "      <th>Tweet</th>\n",
       "      <th>Date</th>\n",
       "      <th>location</th>\n",
       "    </tr>\n",
       "  </thead>\n",
       "  <tbody>\n",
       "    <tr>\n",
       "      <th>12</th>\n",
       "      <td>Possible geolocation \\n\\n47.26803437722594, 37...</td>\n",
       "      <td>27 Feb 2022</td>\n",
       "      <td>12</td>\n",
       "    </tr>\n",
       "    <tr>\n",
       "      <th>61</th>\n",
       "      <td>RT @john_marquee: Geolocation of Su-25 hit by ...</td>\n",
       "      <td>26 Feb 2022</td>\n",
       "      <td>21</td>\n",
       "    </tr>\n",
       "    <tr>\n",
       "      <th>84</th>\n",
       "      <td>Geolocation https://t.co/FTERFplqbp</td>\n",
       "      <td>26 Feb 2022</td>\n",
       "      <td>3</td>\n",
       "    </tr>\n",
       "    <tr>\n",
       "      <th>100</th>\n",
       "      <td>RT @JosephHDempsey: Geolocation of #Russia 🇷🇺 ...</td>\n",
       "      <td>26 Feb 2022</td>\n",
       "      <td>23</td>\n",
       "    </tr>\n",
       "    <tr>\n",
       "      <th>185</th>\n",
       "      <td>Geolocation: 46.8400120, 35.3715288 https://t....</td>\n",
       "      <td>25 Feb 2022</td>\n",
       "      <td>3</td>\n",
       "    </tr>\n",
       "    <tr>\n",
       "      <th>195</th>\n",
       "      <td>Russian troops near Kherson. Working on a geol...</td>\n",
       "      <td>25 Feb 2022</td>\n",
       "      <td>45</td>\n",
       "    </tr>\n",
       "  </tbody>\n",
       "</table>\n",
       "</div>"
      ],
      "text/plain": [
       "                                                 Tweet         Date  location\n",
       "12   Possible geolocation \\n\\n47.26803437722594, 37...  27 Feb 2022        12\n",
       "61   RT @john_marquee: Geolocation of Su-25 hit by ...  26 Feb 2022        21\n",
       "84                 Geolocation https://t.co/FTERFplqbp  26 Feb 2022         3\n",
       "100  RT @JosephHDempsey: Geolocation of #Russia 🇷🇺 ...  26 Feb 2022        23\n",
       "185  Geolocation: 46.8400120, 35.3715288 https://t....  25 Feb 2022         3\n",
       "195  Russian troops near Kherson. Working on a geol...  25 Feb 2022        45"
      ]
     },
     "execution_count": 70,
     "metadata": {},
     "output_type": "execute_result"
    }
   ],
   "source": [
    "user_tweet"
   ]
  },
  {
   "cell_type": "code",
   "execution_count": 71,
   "id": "d6d40bbc-632b-463b-bdbf-36ab711d97ee",
   "metadata": {},
   "outputs": [],
   "source": [
    "key = 'location'"
   ]
  },
  {
   "cell_type": "code",
   "execution_count": 72,
   "id": "12d90214-a7bc-491b-b67a-e7a4b98aceef",
   "metadata": {},
   "outputs": [],
   "source": [
    "all_the_tweet = []"
   ]
  },
  {
   "cell_type": "code",
   "execution_count": 73,
   "id": "d17a1bd2-3805-471e-9873-5a17af50d675",
   "metadata": {},
   "outputs": [],
   "source": [
    "for tweet in user_tweet['Tweet'] : \n",
    "    user_tweet[key] = user_tweet['Tweet'].str.find(key)\n",
    "    user_tweet = (user_tweet[user_tweet[key] > 0])\n",
    "    all_the_tweet.append(user_tweet)"
   ]
  },
  {
   "cell_type": "code",
   "execution_count": 85,
   "id": "ff1aebb2-b51b-4751-a43e-9ca514a7c4ee",
   "metadata": {
    "tags": []
   },
   "outputs": [
    {
     "data": {
      "text/html": [
       "<div>\n",
       "<style scoped>\n",
       "    .dataframe tbody tr th:only-of-type {\n",
       "        vertical-align: middle;\n",
       "    }\n",
       "\n",
       "    .dataframe tbody tr th {\n",
       "        vertical-align: top;\n",
       "    }\n",
       "\n",
       "    .dataframe thead th {\n",
       "        text-align: right;\n",
       "    }\n",
       "</style>\n",
       "<table border=\"1\" class=\"dataframe\">\n",
       "  <thead>\n",
       "    <tr style=\"text-align: right;\">\n",
       "      <th></th>\n",
       "      <th>Tweet</th>\n",
       "      <th>Date</th>\n",
       "      <th>location</th>\n",
       "    </tr>\n",
       "  </thead>\n",
       "  <tbody>\n",
       "    <tr>\n",
       "      <th>12</th>\n",
       "      <td>Possible geolocation \\n\\n47.26803437722594, 37...</td>\n",
       "      <td>27 Feb 2022</td>\n",
       "      <td>12</td>\n",
       "    </tr>\n",
       "    <tr>\n",
       "      <th>61</th>\n",
       "      <td>RT @john_marquee: Geolocation of Su-25 hit by ...</td>\n",
       "      <td>26 Feb 2022</td>\n",
       "      <td>21</td>\n",
       "    </tr>\n",
       "    <tr>\n",
       "      <th>84</th>\n",
       "      <td>Geolocation https://t.co/FTERFplqbp</td>\n",
       "      <td>26 Feb 2022</td>\n",
       "      <td>3</td>\n",
       "    </tr>\n",
       "    <tr>\n",
       "      <th>100</th>\n",
       "      <td>RT @JosephHDempsey: Geolocation of #Russia 🇷🇺 ...</td>\n",
       "      <td>26 Feb 2022</td>\n",
       "      <td>23</td>\n",
       "    </tr>\n",
       "    <tr>\n",
       "      <th>185</th>\n",
       "      <td>Geolocation: 46.8400120, 35.3715288 https://t....</td>\n",
       "      <td>25 Feb 2022</td>\n",
       "      <td>3</td>\n",
       "    </tr>\n",
       "    <tr>\n",
       "      <th>195</th>\n",
       "      <td>Russian troops near Kherson. Working on a geol...</td>\n",
       "      <td>25 Feb 2022</td>\n",
       "      <td>45</td>\n",
       "    </tr>\n",
       "  </tbody>\n",
       "</table>\n",
       "</div>"
      ],
      "text/plain": [
       "                                                 Tweet         Date  location\n",
       "12   Possible geolocation \\n\\n47.26803437722594, 37...  27 Feb 2022        12\n",
       "61   RT @john_marquee: Geolocation of Su-25 hit by ...  26 Feb 2022        21\n",
       "84                 Geolocation https://t.co/FTERFplqbp  26 Feb 2022         3\n",
       "100  RT @JosephHDempsey: Geolocation of #Russia 🇷🇺 ...  26 Feb 2022        23\n",
       "185  Geolocation: 46.8400120, 35.3715288 https://t....  25 Feb 2022         3\n",
       "195  Russian troops near Kherson. Working on a geol...  25 Feb 2022        45"
      ]
     },
     "execution_count": 85,
     "metadata": {},
     "output_type": "execute_result"
    }
   ],
   "source": [
    "all_the_tweet"
   ]
  },
  {
   "cell_type": "code",
   "execution_count": null,
   "id": "5fae3dc9-7c7d-4b95-b472-0bcfcc4ae9e8",
   "metadata": {},
   "outputs": [],
   "source": []
  },
  {
   "cell_type": "code",
   "execution_count": 75,
   "id": "cb2f323c-32b4-40d1-9f9d-3076166f6735",
   "metadata": {
    "tags": []
   },
   "outputs": [],
   "source": [
    "all_the_tweet = pd.DataFrame(all_the_tweet[0])"
   ]
  },
  {
   "cell_type": "code",
   "execution_count": 76,
   "id": "e5ef45a3-3b8f-49e9-a8b9-32abcd96eff2",
   "metadata": {},
   "outputs": [
    {
     "data": {
      "text/plain": [
       "Tweet       object\n",
       "Date        object\n",
       "location     int64\n",
       "dtype: object"
      ]
     },
     "execution_count": 76,
     "metadata": {},
     "output_type": "execute_result"
    }
   ],
   "source": [
    "all_the_tweet.dtypes"
   ]
  },
  {
   "cell_type": "code",
   "execution_count": 79,
   "id": "2ac3678b-8b7b-45ef-89fc-f330d2d9c96f",
   "metadata": {},
   "outputs": [],
   "source": [
    "all_the_tweet['Tweet'] = all_the_tweet['Tweet'].apply(lambda x :str(x))"
   ]
  },
  {
   "cell_type": "code",
   "execution_count": 80,
   "id": "60b12b79-56f9-430e-9f81-cd36c300f623",
   "metadata": {},
   "outputs": [
    {
     "data": {
      "text/plain": [
       "Tweet       object\n",
       "Date        object\n",
       "location     int64\n",
       "dtype: object"
      ]
     },
     "execution_count": 80,
     "metadata": {},
     "output_type": "execute_result"
    }
   ],
   "source": [
    "all_the_tweet.dtypes"
   ]
  },
  {
   "cell_type": "code",
   "execution_count": 62,
   "id": "276b4855-e84f-4063-a8dd-165bb432bca6",
   "metadata": {},
   "outputs": [],
   "source": [
    "import re"
   ]
  },
  {
   "cell_type": "markdown",
   "id": "666451aa-624a-4e45-aa6e-2ad41d889f0e",
   "metadata": {},
   "source": [
    "Regex -> ^[-+]?([1-8]?\\d(\\.\\d+)?|90(\\.0+)?),\\s*[-+]?(180(\\.0+)?|((1[0-7]\\d)|([1-9]?\\d))(\\.\\d+)?)"
   ]
  },
  {
   "cell_type": "code",
   "execution_count": 81,
   "id": "b7f93731-992c-4f8f-8582-68f7ba405b41",
   "metadata": {
    "tags": []
   },
   "outputs": [],
   "source": [
    "for tweet in all_the_tweet['Tweet'] : \n",
    "    loc = []\n",
    "    x = re.findall('^[-+]?([1-8]?\\d(\\.\\d+)?|90(\\.0+)?),\\s*[-+]?(180(\\.0+)?|((1[0-7]\\d)|([1-9]?\\d))(\\.\\d+)?)', tweet)"
   ]
  },
  {
   "cell_type": "code",
   "execution_count": 82,
   "id": "92ac62b4-1640-4273-a678-a533e2c84ccd",
   "metadata": {},
   "outputs": [
    {
     "data": {
      "text/plain": [
       "[]"
      ]
     },
     "execution_count": 82,
     "metadata": {},
     "output_type": "execute_result"
    }
   ],
   "source": [
    "loc"
   ]
  },
  {
   "cell_type": "code",
   "execution_count": null,
   "id": "47c5d729-2402-47a1-a85b-e3260c33e641",
   "metadata": {},
   "outputs": [],
   "source": [
    "loc = re.findall('^((\\-?|\\+?)?\\d+(\\.\\d+)?),\\s*((\\-?|\\+?)?\\d+(\\.\\d+)?)$', "
   ]
  },
  {
   "cell_type": "code",
   "execution_count": 84,
   "id": "085466e2-22f9-46c2-b8e1-3abc685e73f8",
   "metadata": {},
   "outputs": [
    {
     "data": {
      "text/html": [
       "<div>\n",
       "<style scoped>\n",
       "    .dataframe tbody tr th:only-of-type {\n",
       "        vertical-align: middle;\n",
       "    }\n",
       "\n",
       "    .dataframe tbody tr th {\n",
       "        vertical-align: top;\n",
       "    }\n",
       "\n",
       "    .dataframe thead th {\n",
       "        text-align: right;\n",
       "    }\n",
       "</style>\n",
       "<table border=\"1\" class=\"dataframe\">\n",
       "  <thead>\n",
       "    <tr style=\"text-align: right;\">\n",
       "      <th></th>\n",
       "      <th>index</th>\n",
       "      <th>Tweet</th>\n",
       "      <th>Date</th>\n",
       "      <th>location</th>\n",
       "    </tr>\n",
       "  </thead>\n",
       "  <tbody>\n",
       "    <tr>\n",
       "      <th>0</th>\n",
       "      <td>12</td>\n",
       "      <td>Possible geolocation \\n\\n47.26803437722594, 37...</td>\n",
       "      <td>27 Feb 2022</td>\n",
       "      <td>12</td>\n",
       "    </tr>\n",
       "    <tr>\n",
       "      <th>1</th>\n",
       "      <td>61</td>\n",
       "      <td>RT @john_marquee: Geolocation of Su-25 hit by ...</td>\n",
       "      <td>26 Feb 2022</td>\n",
       "      <td>21</td>\n",
       "    </tr>\n",
       "    <tr>\n",
       "      <th>2</th>\n",
       "      <td>84</td>\n",
       "      <td>Geolocation https://t.co/FTERFplqbp</td>\n",
       "      <td>26 Feb 2022</td>\n",
       "      <td>3</td>\n",
       "    </tr>\n",
       "    <tr>\n",
       "      <th>3</th>\n",
       "      <td>100</td>\n",
       "      <td>RT @JosephHDempsey: Geolocation of #Russia 🇷🇺 ...</td>\n",
       "      <td>26 Feb 2022</td>\n",
       "      <td>23</td>\n",
       "    </tr>\n",
       "    <tr>\n",
       "      <th>4</th>\n",
       "      <td>185</td>\n",
       "      <td>Geolocation: 46.8400120, 35.3715288 https://t....</td>\n",
       "      <td>25 Feb 2022</td>\n",
       "      <td>3</td>\n",
       "    </tr>\n",
       "    <tr>\n",
       "      <th>5</th>\n",
       "      <td>195</td>\n",
       "      <td>Russian troops near Kherson. Working on a geol...</td>\n",
       "      <td>25 Feb 2022</td>\n",
       "      <td>45</td>\n",
       "    </tr>\n",
       "  </tbody>\n",
       "</table>\n",
       "</div>"
      ],
      "text/plain": [
       "   index                                              Tweet         Date  \\\n",
       "0     12  Possible geolocation \\n\\n47.26803437722594, 37...  27 Feb 2022   \n",
       "1     61  RT @john_marquee: Geolocation of Su-25 hit by ...  26 Feb 2022   \n",
       "2     84                Geolocation https://t.co/FTERFplqbp  26 Feb 2022   \n",
       "3    100  RT @JosephHDempsey: Geolocation of #Russia 🇷🇺 ...  26 Feb 2022   \n",
       "4    185  Geolocation: 46.8400120, 35.3715288 https://t....  25 Feb 2022   \n",
       "5    195  Russian troops near Kherson. Working on a geol...  25 Feb 2022   \n",
       "\n",
       "   location  \n",
       "0        12  \n",
       "1        21  \n",
       "2         3  \n",
       "3        23  \n",
       "4         3  \n",
       "5        45  "
      ]
     },
     "execution_count": 84,
     "metadata": {},
     "output_type": "execute_result"
    }
   ],
   "source": [
    "all_the_tweet.reset_index()"
   ]
  },
  {
   "cell_type": "code",
   "execution_count": null,
   "id": "f3122108-b08b-4d39-87a8-0f3daa939bd3",
   "metadata": {},
   "outputs": [],
   "source": []
  },
  {
   "cell_type": "code",
   "execution_count": null,
   "id": "06608cde-e3db-40d3-a534-e9af5a14f6c7",
   "metadata": {},
   "outputs": [],
   "source": []
  },
  {
   "cell_type": "code",
   "execution_count": null,
   "id": "c3c65297-d02d-4f2c-994f-55878c9f3b52",
   "metadata": {},
   "outputs": [],
   "source": []
  }
 ],
 "metadata": {
  "kernelspec": {
   "display_name": "Ukraine2",
   "language": "python",
   "name": "ukraine2"
  },
  "language_info": {
   "codemirror_mode": {
    "name": "ipython",
    "version": 3
   },
   "file_extension": ".py",
   "mimetype": "text/x-python",
   "name": "python",
   "nbconvert_exporter": "python",
   "pygments_lexer": "ipython3",
   "version": "3.8.12"
  }
 },
 "nbformat": 4,
 "nbformat_minor": 5
}
